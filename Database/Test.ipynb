{
 "cells": [
  {
   "cell_type": "code",
   "execution_count": 1,
   "metadata": {},
   "outputs": [],
   "source": [
    "import chromadb\n",
    "# from logger import logger\n",
    "from chromadb.config import Settings\n",
    "\n",
    "class ChromaDBConnection:\n",
    "    _instance = None\n",
    "\n",
    "    def __new__(cls, path):\n",
    "        if cls._instance is None:\n",
    "            # logger.info(\"Creating new ChromaDB connection...\")\n",
    "            cls._instance = super(ChromaDBConnection, cls).__new__(cls)\n",
    "            cls._instance.client = chromadb.PersistentClient(path=path, settings=Settings(anonymized_telemetry=False))\n",
    "        return cls._instance\n",
    "\n",
    "    def get_collection(self, name):\n",
    "        # logger.info(f\"Accessing collection: {name}\")\n",
    "        collection = self.client.get_or_create_collection(name=name, metadata={\"hnsw:space\": \"cosine\"})\n",
    "        # logger.info(f\"Collection size: {collection.count()}\")\n",
    "        return collection"
   ]
  },
  {
   "cell_type": "code",
   "execution_count": 2,
   "metadata": {},
   "outputs": [],
   "source": [
    "connection = ChromaDBConnection('TestDB')\n",
    "collection = connection.get_collection('collection_test')"
   ]
  },
  {
   "cell_type": "code",
   "execution_count": 3,
   "metadata": {},
   "outputs": [
    {
     "data": {
      "text/plain": [
       "0"
      ]
     },
     "execution_count": 3,
     "metadata": {},
     "output_type": "execute_result"
    }
   ],
   "source": [
    "collection.count()"
   ]
  },
  {
   "cell_type": "code",
   "execution_count": 4,
   "metadata": {},
   "outputs": [],
   "source": [
    "# from ChromaDBConnection import ChromaDBConnection\n",
    "# from logger import logger\n",
    "# from config import CONNECTION_NAME\n",
    "\n",
    "CONNECTION_NAME = \"TestDB\"\n",
    "\n",
    "class Vectorstore:\n",
    "    def __init__(self, path):\n",
    "        self.client = ChromaDBConnection(path)\n",
    "        self.collection = self.client.get_collection(CONNECTION_NAME)\n",
    "\n",
    "    def add_to_vectorstore(self, ids, vector, metadata, documents):\n",
    "        self.collection.upsert(ids = ids , embeddings = vector, metadatas=metadata, documents = documents)\n",
    "        # logger.info(f\"Added vector to collection: {metadata}\")\n",
    "\n",
    "    def search_vectorstore(self, vector, k):\n",
    "        results = self.collection.query(vector, n_results=k)\n",
    "        # logger.info(f\"Found {len(results)} results\")\n",
    "        return results\n",
    "\n",
    "    def delete_from_vectorstore(self, metadata):\n",
    "        self.collection.delete(metadata)\n",
    "        # logger.info(f\"Deleted vector from collection: {metadata}\")"
   ]
  },
  {
   "cell_type": "code",
   "execution_count": 5,
   "metadata": {},
   "outputs": [],
   "source": [
    "store = Vectorstore(CONNECTION_NAME)"
   ]
  },
  {
   "cell_type": "code",
   "execution_count": 6,
   "metadata": {},
   "outputs": [],
   "source": [
    "from langchain_ollama import ChatOllama, OllamaEmbeddings\n",
    "LLM_MODEL = 'llama3.2'\n",
    "EMBEDDING_MODEL = 'nomic-embed-text'\n",
    "def get_llm():\n",
    "    # logger.info(\"Initializing LLM...\")\n",
    "    llm = ChatOllama(model=LLM_MODEL)\n",
    "    return llm\n",
    "\n",
    "def query_llama(prompt):\n",
    "    # logger.info(\"Querying LLM...\")\n",
    "    llm = get_llm()\n",
    "    res = llm.invoke(prompt)\n",
    "    return res.content\n",
    "\n",
    "def get_embeddings():\n",
    "    # logger.info(\"Loading embedding model...\")\n",
    "    embeddings = OllamaEmbeddings(model=EMBEDDING_MODEL)\n",
    "    return embeddings"
   ]
  },
  {
   "cell_type": "code",
   "execution_count": 7,
   "metadata": {},
   "outputs": [
    {
     "name": "stdout",
     "output_type": "stream",
     "text": [
      "3\n"
     ]
    }
   ],
   "source": [
    "from langchain_ollama import OllamaEmbeddings\n",
    "text = ['Hi I am Praneet', 'I am a student', 'I am a developer']\n",
    "vector_embeddings = []\n",
    "\n",
    "embedding_model = get_embeddings()\n",
    "# for t in text:\n",
    "metadata=[]\n",
    "for i,t in enumerate(text) :\n",
    "    metadata.append({t: t})\n",
    "    vector_embeddings.append(embedding_model.embed_query(t))\n",
    "print(len(metadata))\n",
    "store.add_to_vectorstore(ids = ['1','2','3'],vector=vector_embeddings, metadata=metadata, documents=text)"
   ]
  },
  {
   "cell_type": "code",
   "execution_count": 63,
   "metadata": {},
   "outputs": [
    {
     "data": {
      "text/plain": [
       "{'ids': [['1', '3']],\n",
       " 'embeddings': None,\n",
       " 'documents': [['Hi I am Praneet', 'I am a developer']],\n",
       " 'uris': None,\n",
       " 'data': None,\n",
       " 'metadatas': [[{'Hi I am Praneet': 'Hi I am Praneet'},\n",
       "   {'I am a developer': 'I am a developer'}]],\n",
       " 'distances': [[0.21941244946106198, 0.35755051853415787]],\n",
       " 'included': [<IncludeEnum.distances: 'distances'>,\n",
       "  <IncludeEnum.documents: 'documents'>,\n",
       "  <IncludeEnum.metadatas: 'metadatas'>]}"
      ]
     },
     "execution_count": 63,
     "metadata": {},
     "output_type": "execute_result"
    }
   ],
   "source": [
    "vector = embedding_model.embed_query('Praneet developer')\n",
    "store.search_vectorstore(vector, 2)"
   ]
  },
  {
   "cell_type": "code",
   "execution_count": null,
   "metadata": {},
   "outputs": [],
   "source": []
  }
 ],
 "metadata": {
  "kernelspec": {
   "display_name": "GOT",
   "language": "python",
   "name": "python3"
  },
  "language_info": {
   "codemirror_mode": {
    "name": "ipython",
    "version": 3
   },
   "file_extension": ".py",
   "mimetype": "text/x-python",
   "name": "python",
   "nbconvert_exporter": "python",
   "pygments_lexer": "ipython3",
   "version": "3.11.11"
  }
 },
 "nbformat": 4,
 "nbformat_minor": 2
}
